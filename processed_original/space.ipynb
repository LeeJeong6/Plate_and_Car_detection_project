{
 "cells": [
  {
   "cell_type": "markdown",
   "metadata": {},
   "source": [
    "1.원본 데이터 구조 파악하기"
   ]
  },
  {
   "cell_type": "code",
   "execution_count": 20,
   "metadata": {},
   "outputs": [
    {
     "name": "stdout",
     "output_type": "stream",
     "text": [
      "Label file counts per folder: {'VL_차량번호판인식_교차로_[cr01]비산사거리_04번': 7098, 'VL_차량번호판인식_교차로_[cr13]판교기업지원허브전면삼거리_01번': 2432, 'VL_차량번호판인식_접근로_[ar01]인덕원사거리과천방향_01번': 1411, 'VL_차량번호판인식_이면도로_[sr15]신촌경로당앞사거리_01번': 277, 'VL_차량번호판인식_이면도로_[sr01]벌말성당삼거리_01번': 669}\n",
      "Image file counts per folder: {'VS_차량번호판인식_교차로_[cr01]비산사거리_04번': 7098, 'VS_차량번호판인식_접근로_[ar01]인덕원사거리과천방향_01번': 1411, 'VS_차량번호판인식_교차로_[cr13]판교기업지원허브전면삼거리_01번': 2432, 'VS_차량번호판인식_이면도로_[sr15]신촌경로당앞사거리_01번': 277, 'VS_차량번호판인식_이면도로_[sr01]벌말성당삼거리_01번': 669}\n"
     ]
    }
   ],
   "source": [
    "import os\n",
    "\n",
    "# 폴더 경로\n",
    "label_dir = \"/mnt/hdd_6tb/seungeun/HuNature/data/label/plate\"\n",
    "image_dir = \"/mnt/hdd_6tb/seungeun/HuNature/data/image/plate\"\n",
    "\n",
    "def count_files_in_folders(root_dir):\n",
    "    folder_counts = {}\n",
    "    for folder_name in os.listdir(root_dir):\n",
    "        folder_path = os.path.join(root_dir, folder_name)\n",
    "        if os.path.isdir(folder_path):  # 폴더인지 확인\n",
    "            file_count = len([f for f in os.listdir(folder_path) if os.path.isfile(os.path.join(folder_path, f))])\n",
    "            folder_counts[folder_name] = file_count\n",
    "    return folder_counts\n",
    "\n",
    "# 라벨 및 이미지 폴더 파일 수 계산\n",
    "label_counts = count_files_in_folders(label_dir)\n",
    "image_counts = count_files_in_folders(image_dir)\n",
    "\n",
    "print(\"Label file counts per folder:\", label_counts)\n",
    "print(\"Image file counts per folder:\", image_counts)\n"
   ]
  },
  {
   "cell_type": "markdown",
   "metadata": {},
   "source": [
    "2.이미지 데이터 크기 파악하기 ->(3840 2160)"
   ]
  },
  {
   "cell_type": "code",
   "execution_count": 21,
   "metadata": {},
   "outputs": [
    {
     "name": "stdout",
     "output_type": "stream",
     "text": [
      "이미지 크기: (3840, 2160)\n"
     ]
    }
   ],
   "source": [
    "import os\n",
    "from PIL import Image\n",
    "\n",
    "# 이미지 경로\n",
    "image_path = \"/mnt/hdd_6tb/seungeun/HuNature/data/image/plate/VS_차량번호판인식_교차로_[cr01]비산사거리_04번/C-220810_07_CR01_04_N0509.jpg\"\n",
    "\n",
    "# 이미지 열기\n",
    "image = Image.open(image_path)\n",
    "\n",
    "# 이미지 크기 출력\n",
    "print(f\"이미지 크기: {image.size}\")\n"
   ]
  },
  {
   "cell_type": "markdown",
   "metadata": {},
   "source": [
    "3-1.이미지를 640*360으로 resize후 내 디렉토리에 저장하기 -cr01"
   ]
  },
  {
   "cell_type": "code",
   "execution_count": 2,
   "metadata": {},
   "outputs": [],
   "source": [
    "input_dir = '/mnt/hdd_6tb/seungeun/HuNature/data/image/plate/VS_차량번호판인식_교차로_[cr01]비산사거리_04번'\n",
    "output_dir = '/mnt/hdd_6tb/bill0914/processed_original/image'\n",
    "\n",
    "import os\n",
    "from PIL import Image\n",
    "from natsort import natsorted \n",
    "\n",
    "# 입력 디렉토리에서 jpg 파일 목록 가져오기\n",
    "image_files = [f for f in os.listdir(input_dir) if f.lower().endswith('.jpg')]\n",
    "\n",
    "# natsort를 사용하여 파일명 순으로 정렬\n",
    "image_files = natsorted(image_files)\n",
    "\n",
    "# 이미지 리사이즈 및 저장\n",
    "for i, image_file in enumerate(image_files, start=1):\n",
    "    # 이미지 열기\n",
    "    img_path = os.path.join(input_dir, image_file)\n",
    "    img = Image.open(img_path)\n",
    "    \n",
    "    # 이미지를 640x640으로 리사이즈\n",
    "    img_resized = img.resize((640, 360))\n",
    "        \n",
    "    # 출력 디렉토리에 새로운 이름으로 저장\n",
    "    output_path = os.path.join(output_dir, f'img{i}.png')\n",
    "    img_resized.save(output_path)\n",
    "\n",
    "\n"
   ]
  },
  {
   "cell_type": "markdown",
   "metadata": {},
   "source": [
    "3-2 이미지를 640*640으로 resize후 내 디렉토리에 저장하기 -cr13"
   ]
  },
  {
   "cell_type": "code",
   "execution_count": 3,
   "metadata": {},
   "outputs": [],
   "source": [
    "import os\n",
    "from PIL import Image\n",
    "from natsort import natsorted  # natsort를 사용하여 자연스러운 정렬\n",
    "\n",
    "# 입력과 출력 디렉토리 정의\n",
    "input_dir = '/mnt/hdd_6tb/seungeun/HuNature/data/image/plate/VS_차량번호판인식_교차로_[cr13]판교기업지원허브전면삼거리_01번'\n",
    "output_dir = '/mnt/hdd_6tb/bill0914/processed_original/image'\n",
    "\n",
    "# 입력 디렉토리에서 jpg 파일 목록 가져오기\n",
    "image_files = [f for f in os.listdir(input_dir) if f.lower().endswith('.jpg')]\n",
    "\n",
    "# natsort를 사용하여 파일명 순으로 정렬\n",
    "image_files = natsorted(image_files)\n",
    "\n",
    "# 이미지 리사이즈 및 저장\n",
    "for i, image_file in enumerate(image_files, start=1):\n",
    "    # 이미지 열기\n",
    "    img_path = os.path.join(input_dir, image_file)\n",
    "    img = Image.open(img_path)\n",
    "    \n",
    "    # 이미지를 640x640으로 리사이즈\n",
    "    img_resized = img.resize((640, 360))\n",
    "    \n",
    "    # 출력 디렉토리에 새로운 이름으로 저장\n",
    "    output_path = os.path.join(output_dir, f'img{7098+i}.png')\n",
    "    img_resized.save(output_path)\n"
   ]
  },
  {
   "cell_type": "markdown",
   "metadata": {},
   "source": [
    "3-3이미지를 640*640으로 resize후 내 디렉토리에 저장하기 -sr01"
   ]
  },
  {
   "cell_type": "code",
   "execution_count": 4,
   "metadata": {},
   "outputs": [],
   "source": [
    "\n",
    "# 입력과 출력 디렉토리 정의\n",
    "input_dir = '/mnt/hdd_6tb/seungeun/HuNature/data/image/plate/VS_차량번호판인식_이면도로_[sr01]벌말성당삼거리_01번'\n",
    "output_dir = '/mnt/hdd_6tb/bill0914/processed_original/image'\n",
    "import os\n",
    "from PIL import Image\n",
    "from natsort import natsorted \n",
    "\n",
    "# 입력 디렉토리에서 jpg 파일 목록 가져오기\n",
    "image_files = [f for f in os.listdir(input_dir) if f.lower().endswith('.jpg')]\n",
    "\n",
    "# natsort를 사용하여 파일명 순으로 정렬\n",
    "image_files = natsorted(image_files)\n",
    "\n",
    "# 이미지 리사이즈 및 저장\n",
    "for i, image_file in enumerate(image_files, start=1):\n",
    "    # 이미지 열기\n",
    "    img_path = os.path.join(input_dir, image_file)\n",
    "    img = Image.open(img_path)\n",
    "    \n",
    "    # 이미지를 640x640으로 리사이즈\n",
    "    img_resized = img.resize((640, 360))\n",
    "    \n",
    "    # 출력 디렉토리에 새로운 이름으로 저장\n",
    "    output_path = os.path.join(output_dir, f'img{9530+i}.png')\n",
    "    img_resized.save(output_path)"
   ]
  },
  {
   "cell_type": "markdown",
   "metadata": {},
   "source": [
    "3-4이미지를 640*640으로 resize후 내 디렉토리에 저장하기 -sr15"
   ]
  },
  {
   "cell_type": "code",
   "execution_count": 5,
   "metadata": {},
   "outputs": [],
   "source": [
    "\n",
    "# 입력과 출력 디렉토리 정의\n",
    "input_dir = '/mnt/hdd_6tb/seungeun/HuNature/data/image/plate/VS_차량번호판인식_이면도로_[sr15]신촌경로당앞사거리_01번'\n",
    "output_dir = '/mnt/hdd_6tb/bill0914/processed_original/image'\n",
    "import os\n",
    "from PIL import Image\n",
    "from natsort import natsorted \n",
    "\n",
    "# 입력 디렉토리에서 jpg 파일 목록 가져오기\n",
    "image_files = [f for f in os.listdir(input_dir) if f.lower().endswith('.jpg')]\n",
    "\n",
    "# natsort를 사용하여 파일명 순으로 정렬\n",
    "image_files = natsorted(image_files)\n",
    "\n",
    "# 이미지 리사이즈 및 저장\n",
    "for i, image_file in enumerate(image_files, start=1):\n",
    "    # 이미지 열기\n",
    "    img_path = os.path.join(input_dir, image_file)\n",
    "    img = Image.open(img_path)\n",
    "    \n",
    "    # 이미지를 640x640으로 리사이즈\n",
    "    img_resized = img.resize((640, 360))\n",
    "    \n",
    "    # 출력 디렉토리에 새로운 이름으로 저장\n",
    "    output_path = os.path.join(output_dir, f'img{10199+i}.png')\n",
    "    img_resized.save(output_path)"
   ]
  },
  {
   "cell_type": "markdown",
   "metadata": {},
   "source": [
    "3-5이미지를 640*640으로 resize후 내 디렉토리에 저장하기 -ar01"
   ]
  },
  {
   "cell_type": "code",
   "execution_count": null,
   "metadata": {},
   "outputs": [],
   "source": []
  },
  {
   "cell_type": "code",
   "execution_count": 6,
   "metadata": {},
   "outputs": [],
   "source": [
    "\n",
    "# 입력과 출력 디렉토리 정의\n",
    "input_dir = '/mnt/hdd_6tb/seungeun/HuNature/data/image/plate/VS_차량번호판인식_접근로_[ar01]인덕원사거리과천방향_01번'\n",
    "output_dir = '/mnt/hdd_6tb/bill0914/processed_original/image'\n",
    "import os\n",
    "from PIL import Image\n",
    "from natsort import natsorted \n",
    "\n",
    "# 입력 디렉토리에서 jpg 파일 목록 가져오기\n",
    "image_files = [f for f in os.listdir(input_dir) if f.lower().endswith('.jpg')]\n",
    "\n",
    "# natsort를 사용하여 파일명 순으로 정렬\n",
    "image_files = natsorted(image_files)\n",
    "\n",
    "# 이미지 리사이즈 및 저장\n",
    "for i, image_file in enumerate(image_files, start=1):\n",
    "    # 이미지 열기\n",
    "    img_path = os.path.join(input_dir, image_file)\n",
    "    img = Image.open(img_path)\n",
    "    \n",
    "    # 이미지를 640x640으로 리사이즈\n",
    "    img_resized = img.resize((640, 360))\n",
    "    \n",
    "    # 출력 디렉토리에 새로운 이름으로 저장\n",
    "    output_path = os.path.join(output_dir, f'img{10476+i}.png')\n",
    "    img_resized.save(output_path)"
   ]
  },
  {
   "cell_type": "markdown",
   "metadata": {},
   "source": [
    "4-1 라벨 txt로 저장하기-cr01"
   ]
  },
  {
   "cell_type": "code",
   "execution_count": 7,
   "metadata": {},
   "outputs": [
    {
     "name": "stdout",
     "output_type": "stream",
     "text": [
      "bbox 값이 텍스트 파일로 저장되었습니다.\n"
     ]
    }
   ],
   "source": [
    "import json\n",
    "import os\n",
    "from natsort import natsorted\n",
    "\n",
    "# JSON 파일 경로 설정\n",
    "json_dir = '/mnt/hdd_6tb/seungeun/HuNature/data/label/plate/VL_차량번호판인식_교차로_[cr01]비산사거리_04번'\n",
    "output_dir = '/mnt/hdd_6tb/bill0914/processed_original/label'\n",
    "\n",
    "# 원본 이미지 크기와 리사이즈된 이미지 크기\n",
    "original_width = 3840\n",
    "original_height = 2160\n",
    "resized_width = 640\n",
    "resized_height = 360\n",
    "\n",
    "# JSON 파일 목록 가져오기\n",
    "json_files = [f for f in os.listdir(json_dir) if f.lower().endswith('.json')]\n",
    "json_files = natsorted(json_files)\n",
    "\n",
    "# 출력 디렉토리 생성\n",
    "os.makedirs(output_dir, exist_ok=True)\n",
    "\n",
    "# JSON 파일 처리\n",
    "for idx, json_file in enumerate(json_files, start=1):\n",
    "    json_path = os.path.join(json_dir, json_file)\n",
    "\n",
    "    # JSON 파일 읽기\n",
    "    with open(json_path, 'r', encoding='utf-8') as f:\n",
    "        data = json.load(f)\n",
    "\n",
    "    # license_plate의 bbox 값 추출 및 정규화\n",
    "    bbox_list = []\n",
    "    for annotation in data['Learning_Data_Info']['annotations']:\n",
    "        for plate in annotation.get('license_plate', []):\n",
    "            bbox = plate.get('bbox')\n",
    "            if bbox:\n",
    "                # bbox 값 정규화 (원본 크기 -> 리사이즈된 크기)\n",
    "                x_old, y_old, w_old, h_old = bbox\n",
    "                x_new = (x_old+w_old/2) / original_width\n",
    "                y_new = (y_old+h_old/2) / original_height\n",
    "                w_new = w_old / original_width\n",
    "                h_new = h_old / original_height\n",
    "                bbox_list.append([x_new, y_new, w_new, h_new])\n",
    "    \n",
    "    # 새로운 txt 파일로 저장\n",
    "    if bbox_list:\n",
    "        txt_filename = f'img{idx}.txt'\n",
    "        txt_path = os.path.join(output_dir, txt_filename)\n",
    "\n",
    "        with open(txt_path, 'w', encoding='utf-8') as f:\n",
    "            for i, bbox in enumerate(bbox_list):\n",
    "                # 마지막 bbox는 \\n 없이 저장\n",
    "                if i < len(bbox_list) - 1:\n",
    "                    f.write(f\"{0} {' '.join(map(str, bbox))}\\n\")\n",
    "                else:\n",
    "                    f.write(f\"{0} {' '.join(map(str, bbox))}\")\n",
    "\n",
    "print(\"bbox 값이 텍스트 파일로 저장되었습니다.\")\n"
   ]
  },
  {
   "cell_type": "markdown",
   "metadata": {},
   "source": [
    "4-2 라벨 txt로 저장하기-cr13"
   ]
  },
  {
   "cell_type": "code",
   "execution_count": 8,
   "metadata": {},
   "outputs": [
    {
     "name": "stdout",
     "output_type": "stream",
     "text": [
      "bbox 값이 텍스트 파일로 저장되었습니다.\n"
     ]
    }
   ],
   "source": [
    "import json\n",
    "import os\n",
    "\n",
    "# JSON 파일 경로 설정\n",
    "json_dir = '/mnt/hdd_6tb/seungeun/HuNature/data/label/plate/VL_차량번호판인식_교차로_[cr13]판교기업지원허브전면삼거리_01번'\n",
    "output_dir = '/mnt/hdd_6tb/bill0914/processed_original/label'\n",
    "\n",
    "# JSON 파일을 열고 데이터를 로드\n",
    "json_files = [f for f in os.listdir(json_dir) if f.lower().endswith('.json')]\n",
    "json_files = natsorted(json_files)\n",
    "\n",
    "# 출력 디렉토리 생성\n",
    "os.makedirs(output_dir, exist_ok=True)\n",
    "\n",
    "for idx, json_file in enumerate(json_files, start=1):\n",
    "    json_path = os.path.join(json_dir, json_file)\n",
    "\n",
    "    # JSON 파일 읽기\n",
    "    with open(json_path, 'r', encoding='utf-8') as f:\n",
    "        data = json.load(f)\n",
    "\n",
    "    # license_plate의 bbox 값 추출\n",
    "    bbox_list = []\n",
    "    for annotation in data['Learning_Data_Info']['annotations']:\n",
    "        for plate in annotation.get('license_plate', []):\n",
    "            bbox = plate.get('bbox')\n",
    "            if bbox:\n",
    "                x_old, y_old, w_old, h_old = bbox\n",
    "                x_new = (x_old+w_old/2) / 1920\n",
    "                y_new = (y_old+h_old/2) / 1080\n",
    "                w_new = w_old / 1920\n",
    "                h_new = h_old / 1080\n",
    "                bbox_list.append([x_new, y_new, w_new, h_new])\n",
    "    \n",
    "    # 새로운 txt 파일로 저장\n",
    "    if bbox_list:\n",
    "        txt_filename = f'img{7098+idx}.txt'\n",
    "        txt_path = os.path.join(output_dir, txt_filename)\n",
    "\n",
    "        with open(txt_path, 'w', encoding='utf-8') as f:\n",
    "            for i, bbox in enumerate(bbox_list):\n",
    "                # 마지막 bbox는 \\n 없이 저장\n",
    "                if i < len(bbox_list) - 1:\n",
    "                    f.write(f\"{0} {' '.join(map(str, bbox))}\\n\")\n",
    "                else:\n",
    "                    f.write(f\"{0} {' '.join(map(str, bbox))}\")\n",
    "\n",
    "print(\"bbox 값이 텍스트 파일로 저장되었습니다.\")"
   ]
  },
  {
   "cell_type": "markdown",
   "metadata": {},
   "source": [
    "4-3 라벨 txt로 저장하기-sr01"
   ]
  },
  {
   "cell_type": "code",
   "execution_count": 9,
   "metadata": {},
   "outputs": [
    {
     "name": "stdout",
     "output_type": "stream",
     "text": [
      "bbox 값이 텍스트 파일로 저장되었습니다.\n"
     ]
    }
   ],
   "source": [
    "import json\n",
    "import os\n",
    "\n",
    "# JSON 파일 경로 설정\n",
    "json_dir = '/mnt/hdd_6tb/seungeun/HuNature/data/label/plate/VL_차량번호판인식_이면도로_[sr01]벌말성당삼거리_01번'\n",
    "output_dir = '/mnt/hdd_6tb/bill0914/processed_original/label'\n",
    "\n",
    "# JSON 파일을 열고 데이터를 로드\n",
    "json_files = [f for f in os.listdir(json_dir) if f.lower().endswith('.json')]\n",
    "json_files = natsorted(json_files)\n",
    "\n",
    "# 출력 디렉토리 생성\n",
    "os.makedirs(output_dir, exist_ok=True)\n",
    "\n",
    "for idx, json_file in enumerate(json_files, start=1):\n",
    "    json_path = os.path.join(json_dir, json_file)\n",
    "\n",
    "    # JSON 파일 읽기\n",
    "    with open(json_path, 'r', encoding='utf-8') as f:\n",
    "        data = json.load(f)\n",
    "\n",
    "    # license_plate의 bbox 값 추출\n",
    "    bbox_list = []\n",
    "    for annotation in data['Learning_Data_Info']['annotations']:\n",
    "        for plate in annotation.get('license_plate', []):\n",
    "            bbox = plate.get('bbox')\n",
    "            if bbox:\n",
    "                x_old, y_old, w_old, h_old = bbox\n",
    "                x_new = (x_old+w_old/2) / 1920\n",
    "                y_new = (y_old+h_old/2)  / 1080\n",
    "                w_new = w_old  / 1920\n",
    "                h_new = h_old  / 1080\n",
    "                bbox_list.append([x_new, y_new, w_new, h_new])\n",
    "    \n",
    "    # 새로운 txt 파일로 저장\n",
    "    if bbox_list:\n",
    "        txt_filename = f'img{7098+2432+idx}.txt'\n",
    "        txt_path = os.path.join(output_dir, txt_filename)\n",
    "\n",
    "        with open(txt_path, 'w', encoding='utf-8') as f:\n",
    "            for i, bbox in enumerate(bbox_list):\n",
    "                # 마지막 bbox는 \\n 없이 저장\n",
    "                if i < len(bbox_list) - 1:\n",
    "                    f.write(f\"{0} {' '.join(map(str, bbox))}\\n\")\n",
    "                else:\n",
    "                    f.write(f\"{0} {' '.join(map(str, bbox))}\")\n",
    "\n",
    "print(\"bbox 값이 텍스트 파일로 저장되었습니다.\")"
   ]
  },
  {
   "cell_type": "markdown",
   "metadata": {},
   "source": [
    "4-4 라벨 txt로 저장하기-sr15"
   ]
  },
  {
   "cell_type": "code",
   "execution_count": 10,
   "metadata": {},
   "outputs": [
    {
     "name": "stdout",
     "output_type": "stream",
     "text": [
      "bbox 값이 텍스트 파일로 저장되었습니다.\n"
     ]
    }
   ],
   "source": [
    "import json\n",
    "import os\n",
    "\n",
    "# JSON 파일 경로 설정\n",
    "json_dir = '/mnt/hdd_6tb/seungeun/HuNature/data/label/plate/VL_차량번호판인식_이면도로_[sr15]신촌경로당앞사거리_01번'\n",
    "output_dir = '/mnt/hdd_6tb/bill0914/processed_original/label'\n",
    "\n",
    "# JSON 파일을 열고 데이터를 로드\n",
    "json_files = [f for f in os.listdir(json_dir) if f.lower().endswith('.json')]\n",
    "json_files = natsorted(json_files)\n",
    "\n",
    "# 출력 디렉토리 생성\n",
    "os.makedirs(output_dir, exist_ok=True)\n",
    "\n",
    "for idx, json_file in enumerate(json_files, start=1):\n",
    "    json_path = os.path.join(json_dir, json_file)\n",
    "\n",
    "    # JSON 파일 읽기\n",
    "    with open(json_path, 'r', encoding='utf-8') as f:\n",
    "        data = json.load(f)\n",
    "\n",
    "    # license_plate의 bbox 값 추출\n",
    "    bbox_list = []\n",
    "    for annotation in data['Learning_Data_Info']['annotations']:\n",
    "        for plate in annotation.get('license_plate', []):\n",
    "            bbox = plate.get('bbox')\n",
    "            if bbox:\n",
    "                x_old, y_old, w_old, h_old = bbox\n",
    "                x_new = (x_old+w_old/2)  / 1920\n",
    "                y_new = (y_old+h_old/2)  / 1080\n",
    "                w_new = w_old  / 1920\n",
    "                h_new = h_old  / 1080\n",
    "                bbox_list.append([x_new, y_new, w_new, h_new])\n",
    "    \n",
    "    # 새로운 txt 파일로 저장\n",
    "    if bbox_list:\n",
    "        txt_filename = f'img{7098+2432+669+idx}.txt'\n",
    "        txt_path = os.path.join(output_dir, txt_filename)\n",
    "\n",
    "        with open(txt_path, 'w', encoding='utf-8') as f:\n",
    "            for i, bbox in enumerate(bbox_list):\n",
    "                # 마지막 bbox는 \\n 없이 저장\n",
    "                if i < len(bbox_list) - 1:\n",
    "                    f.write(f\"{0} {' '.join(map(str, bbox))}\\n\")\n",
    "                else:\n",
    "                    f.write(f\"{0} {' '.join(map(str, bbox))}\")\n",
    "\n",
    "print(\"bbox 값이 텍스트 파일로 저장되었습니다.\")"
   ]
  },
  {
   "cell_type": "markdown",
   "metadata": {},
   "source": [
    "4-5 라벨 txt로 저장하기-ar01"
   ]
  },
  {
   "cell_type": "code",
   "execution_count": 11,
   "metadata": {},
   "outputs": [
    {
     "name": "stdout",
     "output_type": "stream",
     "text": [
      "bbox 값이 텍스트 파일로 저장되었습니다.\n"
     ]
    }
   ],
   "source": [
    "import json\n",
    "import os\n",
    "\n",
    "# JSON 파일 경로 설정\n",
    "json_dir = '/mnt/hdd_6tb/seungeun/HuNature/data/label/plate/VL_차량번호판인식_접근로_[ar01]인덕원사거리과천방향_01번'\n",
    "output_dir = '/mnt/hdd_6tb/bill0914/processed_original/label'\n",
    "\n",
    "# JSON 파일을 열고 데이터를 로드\n",
    "json_files = [f for f in os.listdir(json_dir) if f.lower().endswith('.json')]\n",
    "json_files = natsorted(json_files)\n",
    "\n",
    "# 출력 디렉토리 생성\n",
    "os.makedirs(output_dir, exist_ok=True)\n",
    "\n",
    "for idx, json_file in enumerate(json_files, start=1):\n",
    "    json_path = os.path.join(json_dir, json_file)\n",
    "\n",
    "    # JSON 파일 읽기\n",
    "    with open(json_path, 'r', encoding='utf-8') as f:\n",
    "        data = json.load(f)\n",
    "\n",
    "    # license_plate의 bbox 값 추출\n",
    "    bbox_list = []\n",
    "    for annotation in data['Learning_Data_Info']['annotations']:\n",
    "        for plate in annotation.get('license_plate', []):\n",
    "            bbox = plate.get('bbox')\n",
    "            if bbox:\n",
    "                x_old, y_old, w_old, h_old = bbox\n",
    "                x_new = (x_old+w_old/2) / original_width\n",
    "                y_new = (y_old+h_old/2)  / original_height\n",
    "                w_new = w_old  / original_width\n",
    "                h_new = h_old  / original_height\n",
    "                bbox_list.append([x_new, y_new, w_new, h_new])\n",
    "    \n",
    "    # 새로운 txt 파일로 저장\n",
    "    if bbox_list:\n",
    "        txt_filename = f'img{7098+2432+669+277+idx}.txt'\n",
    "        txt_path = os.path.join(output_dir, txt_filename)\n",
    "\n",
    "        with open(txt_path, 'w', encoding='utf-8') as f:\n",
    "            for i, bbox in enumerate(bbox_list):\n",
    "                # 마지막 bbox는 \\n 없이 저장\n",
    "                if i < len(bbox_list) - 1:\n",
    "                    f.write(f\"{0} {' '.join(map(str, bbox))}\\n\")\n",
    "                else:\n",
    "                    f.write(f\"{0} {' '.join(map(str, bbox))}\")\n",
    "\n",
    "print(\"bbox 값이 텍스트 파일로 저장되었습니다.\")\n"
   ]
  },
  {
   "cell_type": "markdown",
   "metadata": {},
   "source": [
    "5-1 bbox그리기"
   ]
  },
  {
   "cell_type": "code",
   "execution_count": 8,
   "metadata": {},
   "outputs": [
    {
     "name": "stdout",
     "output_type": "stream",
     "text": [
      "[[197.5, 391.7037037037037, 210.83333333333334, 402.66666666666663], [221.0, 353.18518518518516, 231.33333333333334, 362.0740740740741], [448.5, 380.14814814814815, 458.6666666666667, 390.51851851851853], [479.5, 554.074074074074, 497.0, 574.5185185185185]]\n"
     ]
    }
   ],
   "source": [
    "txt_path = \"/mnt/hdd_6tb/bill0914/processed_original/label/image2.txt\"\n",
    "with open(txt_path, 'r') as f:\n",
    "        lines = f.readlines()\n",
    "lines\n",
    "    # bbox를 이미지에 그리기\n",
    "numbers = []\n",
    "for entry in lines:\n",
    "    match = re.search(r'\\{[^}]*\\}\\{([^}]*)\\}', entry)  # 중괄호 안의 내용 추출\n",
    "    if match:\n",
    "        # 추출한 내용에서 숫자들만 분리\n",
    "        num_list = list(map(float, match.group(1).split()))\n",
    "        # x, y, x + w, y + h로 변환\n",
    "        x, y, w, h = num_list\n",
    "        transformed = [x, y, x + w, y + h]\n",
    "        numbers.append(transformed)\n",
    "\n",
    "print(numbers) "
   ]
  },
  {
   "cell_type": "code",
   "execution_count": 75,
   "metadata": {},
   "outputs": [
    {
     "name": "stdout",
     "output_type": "stream",
     "text": [
      "Plotted image saved at /mnt/hdd_6tb/bill0914/processed_original/plotted_image/plotted_image11887.png\n"
     ]
    }
   ],
   "source": [
    "import os\n",
    "import re\n",
    "from PIL import Image, ImageDraw\n",
    "\n",
    "# 이미지와 레이블 파일 경로\n",
    "image_folder = \"/mnt/hdd_6tb/bill0914/processed_original/image/img10300.png\"\n",
    "label_folder = \"/mnt/hdd_6tb/bill0914/processed_original/label/image10300.txt\"\n",
    "output_folder = \"/mnt/hdd_6tb/bill0914/processed_original/plotted_image\"\n",
    "\n",
    "# 출력 폴더가 없으면 생성\n",
    "if not os.path.exists(output_folder):\n",
    "    os.makedirs(output_folder)\n",
    "\n",
    "# 이미지 불러오기\n",
    "image = Image.open(image_folder)\n",
    "\n",
    "# 레이블 파일 불러오기\n",
    "with open(label_folder, 'r') as file:\n",
    "    lines = file.readlines()\n",
    "\n",
    "# 이미지에서 그리기 위한 ImageDraw 객체 생성\n",
    "draw = ImageDraw.Draw(image)\n",
    "\n",
    "# 각 라인에 대해 사각형 그리기\n",
    "for entry in lines:\n",
    "    match = re.search(r'\\{[^}]*\\}\\{([^}]*)\\}', entry)  # 중괄호 안의 내용 추출\n",
    "    if match:\n",
    "        # 추출한 내용에서 숫자들만 분리\n",
    "        num_list = list(map(float, match.group(1).split()))\n",
    "        # x, y, x + w, y + h로 변환\n",
    "        x, y, w, h = num_list\n",
    "        transformed = [x, y, x + w, y + h]\n",
    "        \n",
    "        # 사각형 그리기 (PIL에서는 RGB로 처리되므로 따로 변환할 필요 없음)\n",
    "        draw.rectangle(transformed, outline=\"red\", width=1)\n",
    "\n",
    "# 이미지를 PNG 형식으로 저장\n",
    "output_image_path = os.path.join(output_folder, \"plotted_image11887.png\")\n",
    "image.save(output_image_path)\n",
    "\n",
    "# 결과 확인용 출력\n",
    "print(f\"Plotted image saved at {output_image_path}\")\n"
   ]
  },
  {
   "cell_type": "code",
   "execution_count": 6,
   "metadata": {},
   "outputs": [
    {
     "name": "stdout",
     "output_type": "stream",
     "text": [
      "저장 완료: /mnt/hdd_6tb/bill0914/processed_original/plotted_image/plotted1.png\n",
      "저장 완료: /mnt/hdd_6tb/bill0914/processed_original/plotted_image/plotted2.png\n",
      "저장 완료: /mnt/hdd_6tb/bill0914/processed_original/plotted_image/plotted3.png\n",
      "저장 완료: /mnt/hdd_6tb/bill0914/processed_original/plotted_image/plotted4.png\n",
      "저장 완료: /mnt/hdd_6tb/bill0914/processed_original/plotted_image/plotted5.png\n",
      "저장 완료: /mnt/hdd_6tb/bill0914/processed_original/plotted_image/plotted6.png\n",
      "저장 완료: /mnt/hdd_6tb/bill0914/processed_original/plotted_image/plotted7.png\n",
      "저장 완료: /mnt/hdd_6tb/bill0914/processed_original/plotted_image/plotted8.png\n",
      "저장 완료: /mnt/hdd_6tb/bill0914/processed_original/plotted_image/plotted9.png\n",
      "저장 완료: /mnt/hdd_6tb/bill0914/processed_original/plotted_image/plotted10.png\n",
      "모든 작업이 완료되었습니다.\n"
     ]
    }
   ],
   "source": [
    "import os\n",
    "import random\n",
    "from PIL import Image, ImageDraw\n",
    "import re\n",
    "\n",
    "# 경로 설정\n",
    "image_folder = \"/mnt/hdd_6tb/bill0914/processed_original/image\"\n",
    "label_folder = \"/mnt/hdd_6tb/bill0914/processed_original/label\"\n",
    "output_folder = \"/mnt/hdd_6tb/bill0914/processed_original/plotted_image\"\n",
    "\n",
    "\n",
    "image_files = os.listdir(image_folder)\n",
    "\n",
    "selected_images = random.sample(image_files, 10)\n",
    "\n",
    "# bbox 그리기 및 저장\n",
    "for idx, image_file in enumerate(selected_images, start=1):\n",
    "    image_path = os.path.join(image_folder, image_file)\n",
    "    label_path = os.path.join(label_folder, image_file.replace(\".png\", \".txt\"))  # 확장자 변경\n",
    "    \n",
    "    image = Image.open(image_path)\n",
    "    draw = ImageDraw.Draw(image)\n",
    "\n",
    "    # 레이블 읽기\n",
    "    with open(label_path, \"r\") as file:\n",
    "        lines = file.readlines()\n",
    "\n",
    "    for entry in lines:\n",
    "        match = re.search(r'\\{[^}]*\\}\\{([^}]*)\\}', entry)  # bbox 좌표 추출\n",
    "        if match:\n",
    "            # bbox 좌표 가져오기\n",
    "            num_list = list(map(float, match.group(1).split()))\n",
    "            if len(num_list) == 4:  # x, y, w, h\n",
    "                x, y, w, h = num_list\n",
    "                transformed = [x, y, x + w, y + h]\n",
    "                # 사각형 그리기\n",
    "                draw.rectangle(transformed, outline=\"red\", width=1)\n",
    "\n",
    "    # 결과 저장 (순서대로 저장 파일명 생성)\n",
    "    output_path = os.path.join(output_folder, f\"plotted{idx}.png\")\n",
    "    image.save(output_path)\n",
    "    print(f\"저장 완료: {output_path}\")\n",
    "\n",
    "print(\"모든 작업이 완료되었습니다.\")\n"
   ]
  }
 ],
 "metadata": {
  "kernelspec": {
   "display_name": "odenv",
   "language": "python",
   "name": "python3"
  },
  "language_info": {
   "codemirror_mode": {
    "name": "ipython",
    "version": 3
   },
   "file_extension": ".py",
   "mimetype": "text/x-python",
   "name": "python",
   "nbconvert_exporter": "python",
   "pygments_lexer": "ipython3",
   "version": "3.12.8"
  }
 },
 "nbformat": 4,
 "nbformat_minor": 2
}
