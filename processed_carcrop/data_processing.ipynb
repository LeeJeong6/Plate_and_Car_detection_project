{
 "cells": [
  {
   "cell_type": "markdown",
   "metadata": {},
   "source": [
    "차량 데이터가 몇개지? ->7407개"
   ]
  },
  {
   "cell_type": "code",
   "execution_count": 4,
   "metadata": {},
   "outputs": [
    {
     "name": "stdout",
     "output_type": "stream",
     "text": [
      "7407\n"
     ]
    }
   ],
   "source": [
    "ik=\"/mnt/hdd_6tb/seungeun/HuNature/data/image/car\"\n",
    "import os\n",
    "total=0\n",
    "ikfol = os.listdir(ik)\n",
    "for i in range(len(ikfol)):\n",
    "    total+=len(os.listdir(os.path.join(ik,ikfol[i])))\n",
    "print(total)"
   ]
  },
  {
   "cell_type": "markdown",
   "metadata": {},
   "source": [
    "번호판은 몇개지? -> 11887개"
   ]
  },
  {
   "cell_type": "code",
   "execution_count": 5,
   "metadata": {},
   "outputs": [
    {
     "name": "stdout",
     "output_type": "stream",
     "text": [
      "11887\n"
     ]
    }
   ],
   "source": [
    "ik=\"/mnt/hdd_6tb/seungeun/HuNature/data/image/plate\"\n",
    "import os\n",
    "total=0\n",
    "ikfol = os.listdir(ik)\n",
    "for i in range(len(ikfol)):\n",
    "    total+=len(os.listdir(os.path.join(ik,ikfol[i])))\n",
    "print(total)"
   ]
  },
  {
   "cell_type": "markdown",
   "metadata": {},
   "source": [
    "차량 데이터 불러와서 저장하기 ->7407개 완료=>processed_image"
   ]
  },
  {
   "cell_type": "code",
   "execution_count": 1,
   "metadata": {},
   "outputs": [],
   "source": [
    "from natsort import natsorted\n",
    "import os\n",
    "from PIL import Image\n",
    "input = \"/mnt/hdd_6tb/seungeun/HuNature/data/image/car/\"\n",
    "out = \"/mnt/hdd_6tb/bill0914/processed_carcrop/processed_image\"\n",
    "idx = 1\n",
    "for i in natsorted(os.listdir(input)):\n",
    "    for k in natsorted(os.listdir(os.path.join(input,i))):\n",
    "        n = f\"car_image_{idx}.png\"\n",
    "        im = Image.open(os.path.join(os.path.join(input,i),k))\n",
    "        im.save(os.path.join(out,n))\n",
    "        idx+=1\n",
    "\n"
   ]
  },
  {
   "cell_type": "markdown",
   "metadata": {},
   "source": [
    "car데이터 label -> coord만 저장하기 =>processed_label"
   ]
  },
  {
   "cell_type": "code",
   "execution_count": 4,
   "metadata": {},
   "outputs": [],
   "source": [
    "import os\n",
    "import json\n",
    "import natsort\n",
    "import json\n",
    "num=1\n",
    "car_label_dir = \"/mnt/hdd_6tb/seungeun/HuNature/data/label/car\"\n",
    "save_dir = \"/mnt/hdd_6tb/bill0914/processed_carcrop/processed_label\"\n",
    "os.makedirs(save_dir,exist_ok=True)\n",
    "for subfolder in natsort.natsorted(os.listdir(car_label_dir)):\n",
    "    subfolder_path = os.path.join(car_label_dir,subfolder) #car/VL~~~\n",
    "    for jsons in natsort.natsorted(os.listdir(subfolder_path)):\n",
    "        jsons_path = os.path.join(subfolder_path,jsons)\n",
    "        with open(jsons_path,'r') as f:\n",
    "            label = json.load(f)\n",
    "            W,H= (label['Raw Data Info']['resolution']).split(',')\n",
    "            W,H = int(W),int(H)\n",
    "            label = label[\"Learning Data Info\"]['annotations']\n",
    "            #print(label[0].get('coord')[0])\n",
    "            \n",
    "        for i in range(len(label)): #coord개수만큼 돌리기\n",
    "            if label[i].get('coord')[0]=='[':\n",
    "                jj = label[i].get('coord')[1:-1]  \n",
    "                \n",
    "                a,b,c,d = map(float,jj.split(','))\n",
    "                file_name = f\"car_image_{num}.txt\"\n",
    "                save_path = os.path.join(save_dir,file_name)\n",
    "                with open(save_path,'a') as f:\n",
    "                    if i ==len(label)-1 : \n",
    "                        f.write(f\"{1} {a} {b} {c} {d}\")\n",
    "                    else:\n",
    "                        f.write(f\"{1} {a} {b} {c} {d}\\n\")        \n",
    "            else:                    \n",
    "                a = label[i].get('coord')[0]\n",
    "                b = label[i].get('coord')[1]\n",
    "                c = label[i].get('coord')[2]\n",
    "                d = label[i].get('coord')[3]\n",
    "                file_name = f\"car_image_{num}.txt\"\n",
    "                save_path = os.path.join(save_dir,file_name)\n",
    "                with open(save_path,'a') as f:\n",
    "                    if i ==len(label)-1 : \n",
    "                        f.write(f\"{1} {a} {b} {c} {d}\")\n",
    "                    else:\n",
    "                        f.write(f\"{1} {a} {b} {c} {d}\\n\")\n",
    "        num+=1            \n",
    "                                           \n",
    "      \n"
   ]
  },
  {
   "cell_type": "markdown",
   "metadata": {},
   "source": [
    "label정규화해서 새로운 폴더에 만들자 =>\"/mnt/hdd_6tb/bill0914/processed_carcrop/processed_labelno\"\n",
    "기존 라벨과 다른건 center로 맞춘 뒤 값을 정규화함 "
   ]
  },
  {
   "cell_type": "code",
   "execution_count": 2,
   "metadata": {},
   "outputs": [],
   "source": [
    "import os\n",
    "import json\n",
    "import natsort\n",
    "import json\n",
    "num=1\n",
    "car_label_dir = \"/mnt/hdd_6tb/seungeun/HuNature/data/label/car\"\n",
    "save_dir = \"/mnt/hdd_6tb/bill0914/carandplate/carlabel\"\n",
    "os.makedirs(save_dir,exist_ok=True)\n",
    "for subfolder in natsort.natsorted(os.listdir(car_label_dir)):\n",
    "    subfolder_path = os.path.join(car_label_dir,subfolder) #car/VL~~~\n",
    "    for jsons in natsort.natsorted(os.listdir(subfolder_path)):\n",
    "        jsons_path = os.path.join(subfolder_path,jsons)\n",
    "        with open(jsons_path,'r') as f:\n",
    "            label = json.load(f)\n",
    "            W,H= (label['Raw Data Info']['resolution']).split(',')\n",
    "            W,H = int(W),int(H)\n",
    "            label = label[\"Learning Data Info\"]['annotations']\n",
    "            #print(label[0].get('coord')[0])\n",
    "            \n",
    "        for i in range(len(label)): #coord개수만큼 돌리기\n",
    "            if label[i].get('coord')[0]=='[':\n",
    "                jj = label[i].get('coord')[1:-1]  \n",
    "                \n",
    "                a,b,c,d = map(float,jj.split(','))\n",
    "                file_name = f\"car_image_{num}.txt\"\n",
    "                save_path = os.path.join(save_dir,file_name)\n",
    "                with open(save_path,'a') as f:\n",
    "                    if i ==len(label)-1 : \n",
    "                        f.write(f\"{1} {(a+c/2)/W} {(b+d/2)/H} {c/W} {d/H}\")\n",
    "                    else:\n",
    "                        f.write(f\"{1} {(a+c/2)/W} {(b+d/2)/H} {c/W} {d/H}\\n\")        \n",
    "            else:                    \n",
    "                a = label[i].get('coord')[0]\n",
    "                b = label[i].get('coord')[1]\n",
    "                c = label[i].get('coord')[2]\n",
    "                d = label[i].get('coord')[3]\n",
    "                file_name = f\"car_image_{num}.txt\"\n",
    "                save_path = os.path.join(save_dir,file_name)\n",
    "                with open(save_path,'a') as f:\n",
    "                    if i ==len(label)-1 : \n",
    "                        f.write(f\"{1} {(a+c/2)/W} {(b+d/2)/H} {c/W} {d/H}\")\n",
    "                    else:\n",
    "                        f.write(f\"{1} {(a+c/2)/W} {(b+d/2)/H} {c/W} {d/H}\\n\")\n",
    "        num+=1            \n",
    "                                           \n",
    "      \n"
   ]
  },
  {
   "cell_type": "markdown",
   "metadata": {},
   "source": [
    "train/val 3:1로 나눠서 학습용으로 만들기"
   ]
  },
  {
   "cell_type": "code",
   "execution_count": 4,
   "metadata": {},
   "outputs": [
    {
     "name": "stdout",
     "output_type": "stream",
     "text": [
      "Train 라벨 개수: 8915\n",
      "Val 라벨 개수: 2972\n"
     ]
    }
   ],
   "source": [
    "import os\n",
    "import shutil\n",
    "import random\n",
    "\n",
    "# 원본 디렉토리\n",
    "label_dir = \"/mnt/hdd_6tb/bill0914/processed_original/label\"\n",
    "image_dir = \"/mnt/hdd_6tb/bill0914/processed_original/image\"\n",
    "\n",
    "# 복사할 목표 디렉토리\n",
    "train_label_dir = \"/mnt/hdd_6tb/bill0914/carandplate/data/train/labels\"\n",
    "val_label_dir = \"/mnt/hdd_6tb/bill0914/carandplate/data/val/labels\"\n",
    "train_image_dir = \"/mnt/hdd_6tb/bill0914/carandplate/data/train/images\"\n",
    "val_image_dir = \"/mnt/hdd_6tb/bill0914/carandplate/data/val/images\"\n",
    "\n",
    "# 디렉토리 생성 (없으면 생성)\n",
    "os.makedirs(train_label_dir, exist_ok=True)\n",
    "os.makedirs(val_label_dir, exist_ok=True)\n",
    "os.makedirs(train_image_dir, exist_ok=True)\n",
    "os.makedirs(val_image_dir, exist_ok=True)\n",
    "\n",
    "# 라벨 파일 목록 가져오기\n",
    "label_files = [f for f in os.listdir(label_dir) if f.endswith('.txt')]\n",
    "\n",
    "# 라벨 파일 섞기 (랜덤 셔플)\n",
    "random.shuffle(label_files)\n",
    "\n",
    "# 75%는 train, 25%는 val로 분할\n",
    "split_index = int(len(label_files) * 0.75)\n",
    "train_files = label_files[:split_index]\n",
    "val_files = label_files[split_index:]\n",
    "\n",
    "# 복사 함수\n",
    "def copy_files(file_list, src_label_dir, src_image_dir, dest_label_dir, dest_image_dir):\n",
    "    for label_file in file_list:\n",
    "        # 라벨 파일 경로\n",
    "        src_label_path = os.path.join(src_label_dir, label_file)\n",
    "        dest_label_path = os.path.join(dest_label_dir, label_file)\n",
    "        \n",
    "        # 이미지 파일 경로\n",
    "        image_file = label_file.replace('.txt', '.png')  # 라벨 파일명을 이미지 파일명으로 변환\n",
    "        src_image_path = os.path.join(src_image_dir, image_file)\n",
    "        dest_image_path = os.path.join(dest_image_dir, image_file)\n",
    "        \n",
    "        # 라벨 복사\n",
    "        shutil.copy(src_label_path, dest_label_path)\n",
    "        \n",
    "        # 이미지가 존재하면 복사\n",
    "        if os.path.exists(src_image_path):\n",
    "            shutil.copy(src_image_path, dest_image_path)\n",
    "        else:\n",
    "            print(f\"이미지 파일 {image_file}가 존재하지 않습니다.\")\n",
    "\n",
    "# Train 데이터 복사\n",
    "copy_files(train_files, label_dir, image_dir, train_label_dir, train_image_dir)\n",
    "\n",
    "# Val 데이터 복사\n",
    "copy_files(val_files, label_dir, image_dir, val_label_dir, val_image_dir)\n",
    "\n",
    "print(f\"Train 라벨 개수: {len(train_files)}\")\n",
    "print(f\"Val 라벨 개수: {len(val_files)}\")\n"
   ]
  },
  {
   "cell_type": "markdown",
   "metadata": {},
   "source": [
    "이미지에서 차량부분만 떼어보자 - 라벨링 했으니까  "
   ]
  },
  {
   "cell_type": "code",
   "execution_count": null,
   "metadata": {},
   "outputs": [],
   "source": [
    "from PIL import Image\n",
    "import cv2\n",
    "import natsort\n",
    "import os\n",
    "\n",
    "image_dir = \"/mnt/hdd_6tb/bill0914/processed_carcrop/processed_image\"\n",
    "label_dir = \"/mnt/hdd_6tb/bill0914/processed_carcrop/processed_label\"\n",
    "out_dir = \"/mnt/hdd_6tb/bill0914/processed_carcrop/ori_img\"\n",
    "\n",
    "image_list = natsort.natsorted(os.listdir(image_dir))\n",
    "label_list = natsort.natsorted(os.listdir(label_dir))\n",
    "\n",
    "for i, image_name in enumerate(image_list):\n",
    "    image_path = os.path.join(image_dir, image_name)\n",
    "    image = cv2.imread(image_path)  # 이미지 불러오기 (array 형태)\n",
    "    \n",
    "    if image is None:\n",
    "        print(f\"이미지를 불러올 수 없습니다: {image_path}\")\n",
    "        continue\n",
    "    \n",
    "    height, width, _ = image.shape  # 이미지의 높이와 너비 가져오기\n",
    "    \n",
    "    # 해당 이미지의 라벨 읽기\n",
    "    label_path = os.path.join(label_dir, label_list[i])\n",
    "    with open(label_path, 'r') as f:\n",
    "        carbbox_list = f.readlines()\n",
    "    \n",
    "    for idx, g in enumerate(carbbox_list):\n",
    "        # 라벨의 좌상단 x, y와 w, h 파싱\n",
    "        class_id, x, y, w, h = map(float, g.split())\n",
    "        \n",
    "        # 좌표를 정수로 변환\n",
    "        x1 = int(x)\n",
    "        y1 = int(y)\n",
    "        x2 = int(x + w)\n",
    "        y2 = int(y + h)\n",
    "        \n",
    "        # 이미지 크롭 (좌표가 이미지 경계를 벗어나지 않도록 클램핑)\n",
    "        x1 = max(0, x1)\n",
    "        y1 = max(0, y1)\n",
    "        x2 = min(width, x2)\n",
    "        y2 = min(height, y2)\n",
    "        \n",
    "        car_image = image[y1:y2, x1:x2]  # 크롭된 이미지\n",
    "        \n",
    "        if car_image.size == 0:\n",
    "            print(f\"크롭된 이미지가 비어 있습니다: {image_name}, 라벨 {idx}\")\n",
    "            continue\n",
    "        \n",
    "        # 크롭된 이미지를 PIL 형식으로 변환 후 리사이즈\n",
    "        car_image = Image.fromarray(cv2.cvtColor(car_image, cv2.COLOR_BGR2RGB))\n",
    "        car_image = car_image.resize((640, 360))\n",
    "        \n",
    "        # 파일 이름 생성 및 저장\n",
    "        name = f\"image_{i + 1}_{idx}.png\"\n",
    "        car_image.save(os.path.join(out_dir, name))\n"
   ]
  }
 ],
 "metadata": {
  "kernelspec": {
   "display_name": "odenv",
   "language": "python",
   "name": "python3"
  },
  "language_info": {
   "codemirror_mode": {
    "name": "ipython",
    "version": 3
   },
   "file_extension": ".py",
   "mimetype": "text/x-python",
   "name": "python",
   "nbconvert_exporter": "python",
   "pygments_lexer": "ipython3",
   "version": "3.12.8"
  }
 },
 "nbformat": 4,
 "nbformat_minor": 2
}
